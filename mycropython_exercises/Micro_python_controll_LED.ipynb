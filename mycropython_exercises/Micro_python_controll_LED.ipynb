{
 "cells": [
  {
   "cell_type": "markdown",
   "metadata": {},
   "source": [
    "## Connect the serial to port micropython, so we running the micropython code inside jupyter notebook"
   ]
  },
  {
   "cell_type": "code",
   "execution_count": 1,
   "metadata": {},
   "outputs": [
    {
     "name": "stdout",
     "output_type": "stream",
     "text": [
      "\u001b[34mConnecting to --port=/dev/ttyUSB0 --baud=115200 \u001b[0m\n",
      "\u001b[34mReady.\n",
      "\u001b[0m"
     ]
    }
   ],
   "source": [
    "%serialconnect to --port=/dev/ttyUSB0 --baud=115200"
   ]
  },
  {
   "cell_type": "markdown",
   "metadata": {},
   "source": [
    "## Controlling one LED"
   ]
  },
  {
   "cell_type": "code",
   "execution_count": 2,
   "metadata": {},
   "outputs": [
    {
     "name": "stdout",
     "output_type": "stream",
     "text": [
      ".."
     ]
    }
   ],
   "source": [
    "import machine \n",
    "import time\n",
    "\n",
    "led = machine.Pin(2, machine.Pin.OUT)\n",
    "\n",
    "def micropy():\n",
    "    for i in range(10):\n",
    "        led.value(1)\n",
    "        time.sleep_ms(500)\n",
    "        led.value(0)\n",
    "        time.sleep_ms(500)\n",
    "micropy()"
   ]
  },
  {
   "cell_type": "markdown",
   "metadata": {},
   "source": [
    "## Controlling two LEDs"
   ]
  },
  {
   "cell_type": "code",
   "execution_count": 3,
   "metadata": {},
   "outputs": [
    {
     "name": "stdout",
     "output_type": "stream",
     "text": [
      "........."
     ]
    }
   ],
   "source": [
    "# import library to deal with pins:\n",
    "import machine\n",
    "import time\n",
    "from machine import Pin\n",
    "\n",
    "led1 = machine.Pin(2, machine.Pin.OUT)\n",
    "# define pin 0 as output\n",
    "led2 = Pin(0, Pin.OUT)\n",
    "\n",
    "\n",
    "def micropy():\n",
    "    for i in range(50):\n",
    "        # define value of \"led\" as \"1\" or \"True\" to turn on the LED \n",
    "        # also you can use .on() methods to control the pin\n",
    "        led1.value(1)\n",
    "        led2.on()\n",
    "        time.sleep_ms(500)\n",
    "        # define value of \"led\" as \"0\" or \"False\" to turn off the LED\n",
    "        # also you can use .off() methods to control the pin\n",
    "        led1.value(0)\n",
    "        led2.off()\n",
    "        time.sleep_ms(500)\n",
    "micropy()"
   ]
  },
  {
   "cell_type": "code",
   "execution_count": null,
   "metadata": {},
   "outputs": [],
   "source": []
  }
 ],
 "metadata": {
  "kernelspec": {
   "display_name": "MicroPython - USB",
   "language": "micropython",
   "name": "micropython"
  },
  "language_info": {
   "codemirror_mode": "python",
   "file_extension": ".py",
   "mimetype": "text/python",
   "name": "micropython"
  }
 },
 "nbformat": 4,
 "nbformat_minor": 2
}
